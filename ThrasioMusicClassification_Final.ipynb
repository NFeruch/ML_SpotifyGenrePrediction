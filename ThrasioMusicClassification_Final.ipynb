{
 "cells": [
  {
   "cell_type": "markdown",
   "id": "365a630e",
   "metadata": {},
   "source": [
    "# Thrasio Spotify Music Classification"
   ]
  },
  {
   "cell_type": "markdown",
   "id": "c3469247",
   "metadata": {},
   "source": [
    "## Importing the Data"
   ]
  },
  {
   "cell_type": "code",
   "execution_count": 1,
   "id": "b352bd8c",
   "metadata": {},
   "outputs": [],
   "source": [
    "import pandas as pd\n",
    "import numpy as np\n",
    "import matplotlib.pyplot as plt\n",
    "import requests\n",
    "import seaborn as sns\n",
    "import warnings\n",
    "from collections import Counter\n",
    "from imblearn.over_sampling import SMOTE\n",
    "from sklearn.linear_model import LogisticRegression\n",
    "from sklearn.ensemble import RandomForestClassifier\n",
    "from sklearn.utils import resample\n",
    "from sklearn.model_selection import train_test_split\n",
    "from sklearn.model_selection import cross_val_score\n",
    "from sklearn.model_selection import RepeatedStratifiedKFold\n",
    "from sklearn.metrics import plot_confusion_matrix\n",
    "warnings.filterwarnings('ignore')"
   ]
  },
  {
   "cell_type": "code",
   "execution_count": 2,
   "id": "7bce8b40",
   "metadata": {},
   "outputs": [
    {
     "data": {
      "text/html": [
       "<div>\n",
       "<style scoped>\n",
       "    .dataframe tbody tr th:only-of-type {\n",
       "        vertical-align: middle;\n",
       "    }\n",
       "\n",
       "    .dataframe tbody tr th {\n",
       "        vertical-align: top;\n",
       "    }\n",
       "\n",
       "    .dataframe thead th {\n",
       "        text-align: right;\n",
       "    }\n",
       "</style>\n",
       "<table border=\"1\" class=\"dataframe\">\n",
       "  <thead>\n",
       "    <tr style=\"text-align: right;\">\n",
       "      <th></th>\n",
       "      <th>instance_id</th>\n",
       "      <th>artist_name</th>\n",
       "      <th>track_name</th>\n",
       "      <th>popularity</th>\n",
       "      <th>acousticness</th>\n",
       "      <th>danceability</th>\n",
       "      <th>duration_ms</th>\n",
       "      <th>energy</th>\n",
       "      <th>instrumentalness</th>\n",
       "      <th>key</th>\n",
       "      <th>liveness</th>\n",
       "      <th>loudness</th>\n",
       "      <th>mode</th>\n",
       "      <th>speechiness</th>\n",
       "      <th>tempo</th>\n",
       "      <th>obtained_date</th>\n",
       "      <th>valence</th>\n",
       "      <th>music_genre</th>\n",
       "    </tr>\n",
       "  </thead>\n",
       "  <tbody>\n",
       "    <tr>\n",
       "      <th>0</th>\n",
       "      <td>32894.0</td>\n",
       "      <td>Röyksopp</td>\n",
       "      <td>Röyksopp's Night Out</td>\n",
       "      <td>27.0</td>\n",
       "      <td>0.00468</td>\n",
       "      <td>0.652</td>\n",
       "      <td>-1.0</td>\n",
       "      <td>0.941</td>\n",
       "      <td>0.79200</td>\n",
       "      <td>A#</td>\n",
       "      <td>0.115</td>\n",
       "      <td>-5.201</td>\n",
       "      <td>Minor</td>\n",
       "      <td>0.0748</td>\n",
       "      <td>100.889</td>\n",
       "      <td>4-Apr</td>\n",
       "      <td>0.759</td>\n",
       "      <td>Electronic</td>\n",
       "    </tr>\n",
       "    <tr>\n",
       "      <th>1</th>\n",
       "      <td>46652.0</td>\n",
       "      <td>Thievery Corporation</td>\n",
       "      <td>The Shining Path</td>\n",
       "      <td>31.0</td>\n",
       "      <td>0.01270</td>\n",
       "      <td>0.622</td>\n",
       "      <td>218293.0</td>\n",
       "      <td>0.890</td>\n",
       "      <td>0.95000</td>\n",
       "      <td>D</td>\n",
       "      <td>0.124</td>\n",
       "      <td>-7.043</td>\n",
       "      <td>Minor</td>\n",
       "      <td>0.0300</td>\n",
       "      <td>115.00200000000001</td>\n",
       "      <td>4-Apr</td>\n",
       "      <td>0.531</td>\n",
       "      <td>Electronic</td>\n",
       "    </tr>\n",
       "    <tr>\n",
       "      <th>2</th>\n",
       "      <td>30097.0</td>\n",
       "      <td>Dillon Francis</td>\n",
       "      <td>Hurricane</td>\n",
       "      <td>28.0</td>\n",
       "      <td>0.00306</td>\n",
       "      <td>0.620</td>\n",
       "      <td>215613.0</td>\n",
       "      <td>0.755</td>\n",
       "      <td>0.01180</td>\n",
       "      <td>G#</td>\n",
       "      <td>0.534</td>\n",
       "      <td>-4.617</td>\n",
       "      <td>Major</td>\n",
       "      <td>0.0345</td>\n",
       "      <td>127.994</td>\n",
       "      <td>4-Apr</td>\n",
       "      <td>0.333</td>\n",
       "      <td>Electronic</td>\n",
       "    </tr>\n",
       "    <tr>\n",
       "      <th>3</th>\n",
       "      <td>62177.0</td>\n",
       "      <td>Dubloadz</td>\n",
       "      <td>Nitro</td>\n",
       "      <td>34.0</td>\n",
       "      <td>0.02540</td>\n",
       "      <td>0.774</td>\n",
       "      <td>166875.0</td>\n",
       "      <td>0.700</td>\n",
       "      <td>0.00253</td>\n",
       "      <td>C#</td>\n",
       "      <td>0.157</td>\n",
       "      <td>-4.498</td>\n",
       "      <td>Major</td>\n",
       "      <td>0.2390</td>\n",
       "      <td>128.014</td>\n",
       "      <td>4-Apr</td>\n",
       "      <td>0.270</td>\n",
       "      <td>Electronic</td>\n",
       "    </tr>\n",
       "    <tr>\n",
       "      <th>4</th>\n",
       "      <td>24907.0</td>\n",
       "      <td>What So Not</td>\n",
       "      <td>Divide &amp; Conquer</td>\n",
       "      <td>32.0</td>\n",
       "      <td>0.00465</td>\n",
       "      <td>0.638</td>\n",
       "      <td>222369.0</td>\n",
       "      <td>0.587</td>\n",
       "      <td>0.90900</td>\n",
       "      <td>F#</td>\n",
       "      <td>0.157</td>\n",
       "      <td>-6.266</td>\n",
       "      <td>Major</td>\n",
       "      <td>0.0413</td>\n",
       "      <td>145.036</td>\n",
       "      <td>4-Apr</td>\n",
       "      <td>0.323</td>\n",
       "      <td>Electronic</td>\n",
       "    </tr>\n",
       "  </tbody>\n",
       "</table>\n",
       "</div>"
      ],
      "text/plain": [
       "   instance_id           artist_name            track_name  popularity  \\\n",
       "0      32894.0              Röyksopp  Röyksopp's Night Out        27.0   \n",
       "1      46652.0  Thievery Corporation      The Shining Path        31.0   \n",
       "2      30097.0        Dillon Francis             Hurricane        28.0   \n",
       "3      62177.0              Dubloadz                 Nitro        34.0   \n",
       "4      24907.0           What So Not      Divide & Conquer        32.0   \n",
       "\n",
       "   acousticness  danceability  duration_ms  energy  instrumentalness key  \\\n",
       "0       0.00468         0.652         -1.0   0.941           0.79200  A#   \n",
       "1       0.01270         0.622     218293.0   0.890           0.95000   D   \n",
       "2       0.00306         0.620     215613.0   0.755           0.01180  G#   \n",
       "3       0.02540         0.774     166875.0   0.700           0.00253  C#   \n",
       "4       0.00465         0.638     222369.0   0.587           0.90900  F#   \n",
       "\n",
       "   liveness  loudness   mode  speechiness               tempo obtained_date  \\\n",
       "0     0.115    -5.201  Minor       0.0748             100.889         4-Apr   \n",
       "1     0.124    -7.043  Minor       0.0300  115.00200000000001         4-Apr   \n",
       "2     0.534    -4.617  Major       0.0345             127.994         4-Apr   \n",
       "3     0.157    -4.498  Major       0.2390             128.014         4-Apr   \n",
       "4     0.157    -6.266  Major       0.0413             145.036         4-Apr   \n",
       "\n",
       "   valence music_genre  \n",
       "0    0.759  Electronic  \n",
       "1    0.531  Electronic  \n",
       "2    0.333  Electronic  \n",
       "3    0.270  Electronic  \n",
       "4    0.323  Electronic  "
      ]
     },
     "execution_count": 2,
     "metadata": {},
     "output_type": "execute_result"
    }
   ],
   "source": [
    "pd.set_option('display.max_columns', None)\n",
    "df = pd.read_csv(r'music_genre.csv')\n",
    "df.head()"
   ]
  },
  {
   "cell_type": "markdown",
   "id": "ca48f87e",
   "metadata": {},
   "source": [
    "## Exploring the data"
   ]
  },
  {
   "cell_type": "code",
   "execution_count": 3,
   "id": "0436b82d",
   "metadata": {},
   "outputs": [
    {
     "data": {
      "text/html": [
       "<div>\n",
       "<style scoped>\n",
       "    .dataframe tbody tr th:only-of-type {\n",
       "        vertical-align: middle;\n",
       "    }\n",
       "\n",
       "    .dataframe tbody tr th {\n",
       "        vertical-align: top;\n",
       "    }\n",
       "\n",
       "    .dataframe thead th {\n",
       "        text-align: right;\n",
       "    }\n",
       "</style>\n",
       "<table border=\"1\" class=\"dataframe\">\n",
       "  <thead>\n",
       "    <tr style=\"text-align: right;\">\n",
       "      <th></th>\n",
       "      <th>instance_id</th>\n",
       "      <th>artist_name</th>\n",
       "      <th>track_name</th>\n",
       "      <th>popularity</th>\n",
       "      <th>acousticness</th>\n",
       "      <th>danceability</th>\n",
       "      <th>duration_ms</th>\n",
       "      <th>energy</th>\n",
       "      <th>instrumentalness</th>\n",
       "      <th>key</th>\n",
       "      <th>liveness</th>\n",
       "      <th>loudness</th>\n",
       "      <th>mode</th>\n",
       "      <th>speechiness</th>\n",
       "      <th>tempo</th>\n",
       "      <th>obtained_date</th>\n",
       "      <th>valence</th>\n",
       "      <th>music_genre</th>\n",
       "    </tr>\n",
       "  </thead>\n",
       "  <tbody>\n",
       "    <tr>\n",
       "      <th>count</th>\n",
       "      <td>50000.000000</td>\n",
       "      <td>50000</td>\n",
       "      <td>50000</td>\n",
       "      <td>50000.000000</td>\n",
       "      <td>50000.000000</td>\n",
       "      <td>50000.000000</td>\n",
       "      <td>5.000000e+04</td>\n",
       "      <td>50000.000000</td>\n",
       "      <td>50000.000000</td>\n",
       "      <td>50000</td>\n",
       "      <td>50000.000000</td>\n",
       "      <td>50000.000000</td>\n",
       "      <td>50000</td>\n",
       "      <td>50000.000000</td>\n",
       "      <td>50000</td>\n",
       "      <td>50000</td>\n",
       "      <td>50000.000000</td>\n",
       "      <td>50000</td>\n",
       "    </tr>\n",
       "    <tr>\n",
       "      <th>unique</th>\n",
       "      <td>NaN</td>\n",
       "      <td>6863</td>\n",
       "      <td>41699</td>\n",
       "      <td>NaN</td>\n",
       "      <td>NaN</td>\n",
       "      <td>NaN</td>\n",
       "      <td>NaN</td>\n",
       "      <td>NaN</td>\n",
       "      <td>NaN</td>\n",
       "      <td>12</td>\n",
       "      <td>NaN</td>\n",
       "      <td>NaN</td>\n",
       "      <td>2</td>\n",
       "      <td>NaN</td>\n",
       "      <td>29394</td>\n",
       "      <td>5</td>\n",
       "      <td>NaN</td>\n",
       "      <td>10</td>\n",
       "    </tr>\n",
       "    <tr>\n",
       "      <th>top</th>\n",
       "      <td>NaN</td>\n",
       "      <td>empty_field</td>\n",
       "      <td>Home</td>\n",
       "      <td>NaN</td>\n",
       "      <td>NaN</td>\n",
       "      <td>NaN</td>\n",
       "      <td>NaN</td>\n",
       "      <td>NaN</td>\n",
       "      <td>NaN</td>\n",
       "      <td>G</td>\n",
       "      <td>NaN</td>\n",
       "      <td>NaN</td>\n",
       "      <td>Major</td>\n",
       "      <td>NaN</td>\n",
       "      <td>?</td>\n",
       "      <td>4-Apr</td>\n",
       "      <td>NaN</td>\n",
       "      <td>Electronic</td>\n",
       "    </tr>\n",
       "    <tr>\n",
       "      <th>freq</th>\n",
       "      <td>NaN</td>\n",
       "      <td>2489</td>\n",
       "      <td>16</td>\n",
       "      <td>NaN</td>\n",
       "      <td>NaN</td>\n",
       "      <td>NaN</td>\n",
       "      <td>NaN</td>\n",
       "      <td>NaN</td>\n",
       "      <td>NaN</td>\n",
       "      <td>5727</td>\n",
       "      <td>NaN</td>\n",
       "      <td>NaN</td>\n",
       "      <td>32099</td>\n",
       "      <td>NaN</td>\n",
       "      <td>4980</td>\n",
       "      <td>44748</td>\n",
       "      <td>NaN</td>\n",
       "      <td>5000</td>\n",
       "    </tr>\n",
       "    <tr>\n",
       "      <th>mean</th>\n",
       "      <td>55888.396360</td>\n",
       "      <td>NaN</td>\n",
       "      <td>NaN</td>\n",
       "      <td>44.220420</td>\n",
       "      <td>0.306383</td>\n",
       "      <td>0.558241</td>\n",
       "      <td>2.212526e+05</td>\n",
       "      <td>0.599755</td>\n",
       "      <td>0.181601</td>\n",
       "      <td>NaN</td>\n",
       "      <td>0.193896</td>\n",
       "      <td>-9.133761</td>\n",
       "      <td>NaN</td>\n",
       "      <td>0.093586</td>\n",
       "      <td>NaN</td>\n",
       "      <td>NaN</td>\n",
       "      <td>0.456264</td>\n",
       "      <td>NaN</td>\n",
       "    </tr>\n",
       "    <tr>\n",
       "      <th>std</th>\n",
       "      <td>20725.256253</td>\n",
       "      <td>NaN</td>\n",
       "      <td>NaN</td>\n",
       "      <td>15.542008</td>\n",
       "      <td>0.341340</td>\n",
       "      <td>0.178632</td>\n",
       "      <td>1.286720e+05</td>\n",
       "      <td>0.264559</td>\n",
       "      <td>0.325409</td>\n",
       "      <td>NaN</td>\n",
       "      <td>0.161637</td>\n",
       "      <td>6.162990</td>\n",
       "      <td>NaN</td>\n",
       "      <td>0.101373</td>\n",
       "      <td>NaN</td>\n",
       "      <td>NaN</td>\n",
       "      <td>0.247119</td>\n",
       "      <td>NaN</td>\n",
       "    </tr>\n",
       "    <tr>\n",
       "      <th>min</th>\n",
       "      <td>20002.000000</td>\n",
       "      <td>NaN</td>\n",
       "      <td>NaN</td>\n",
       "      <td>0.000000</td>\n",
       "      <td>0.000000</td>\n",
       "      <td>0.059600</td>\n",
       "      <td>-1.000000e+00</td>\n",
       "      <td>0.000792</td>\n",
       "      <td>0.000000</td>\n",
       "      <td>NaN</td>\n",
       "      <td>0.009670</td>\n",
       "      <td>-47.046000</td>\n",
       "      <td>NaN</td>\n",
       "      <td>0.022300</td>\n",
       "      <td>NaN</td>\n",
       "      <td>NaN</td>\n",
       "      <td>0.000000</td>\n",
       "      <td>NaN</td>\n",
       "    </tr>\n",
       "    <tr>\n",
       "      <th>25%</th>\n",
       "      <td>37973.500000</td>\n",
       "      <td>NaN</td>\n",
       "      <td>NaN</td>\n",
       "      <td>34.000000</td>\n",
       "      <td>0.020000</td>\n",
       "      <td>0.442000</td>\n",
       "      <td>1.748000e+05</td>\n",
       "      <td>0.433000</td>\n",
       "      <td>0.000000</td>\n",
       "      <td>NaN</td>\n",
       "      <td>0.096900</td>\n",
       "      <td>-10.860000</td>\n",
       "      <td>NaN</td>\n",
       "      <td>0.036100</td>\n",
       "      <td>NaN</td>\n",
       "      <td>NaN</td>\n",
       "      <td>0.257000</td>\n",
       "      <td>NaN</td>\n",
       "    </tr>\n",
       "    <tr>\n",
       "      <th>50%</th>\n",
       "      <td>55913.500000</td>\n",
       "      <td>NaN</td>\n",
       "      <td>NaN</td>\n",
       "      <td>45.000000</td>\n",
       "      <td>0.144000</td>\n",
       "      <td>0.568000</td>\n",
       "      <td>2.192810e+05</td>\n",
       "      <td>0.643000</td>\n",
       "      <td>0.000158</td>\n",
       "      <td>NaN</td>\n",
       "      <td>0.126000</td>\n",
       "      <td>-7.276500</td>\n",
       "      <td>NaN</td>\n",
       "      <td>0.048900</td>\n",
       "      <td>NaN</td>\n",
       "      <td>NaN</td>\n",
       "      <td>0.448000</td>\n",
       "      <td>NaN</td>\n",
       "    </tr>\n",
       "    <tr>\n",
       "      <th>75%</th>\n",
       "      <td>73863.250000</td>\n",
       "      <td>NaN</td>\n",
       "      <td>NaN</td>\n",
       "      <td>56.000000</td>\n",
       "      <td>0.552000</td>\n",
       "      <td>0.687000</td>\n",
       "      <td>2.686122e+05</td>\n",
       "      <td>0.815000</td>\n",
       "      <td>0.155000</td>\n",
       "      <td>NaN</td>\n",
       "      <td>0.244000</td>\n",
       "      <td>-5.173000</td>\n",
       "      <td>NaN</td>\n",
       "      <td>0.098525</td>\n",
       "      <td>NaN</td>\n",
       "      <td>NaN</td>\n",
       "      <td>0.648000</td>\n",
       "      <td>NaN</td>\n",
       "    </tr>\n",
       "    <tr>\n",
       "      <th>max</th>\n",
       "      <td>91759.000000</td>\n",
       "      <td>NaN</td>\n",
       "      <td>NaN</td>\n",
       "      <td>99.000000</td>\n",
       "      <td>0.996000</td>\n",
       "      <td>0.986000</td>\n",
       "      <td>4.830606e+06</td>\n",
       "      <td>0.999000</td>\n",
       "      <td>0.996000</td>\n",
       "      <td>NaN</td>\n",
       "      <td>1.000000</td>\n",
       "      <td>3.744000</td>\n",
       "      <td>NaN</td>\n",
       "      <td>0.942000</td>\n",
       "      <td>NaN</td>\n",
       "      <td>NaN</td>\n",
       "      <td>0.992000</td>\n",
       "      <td>NaN</td>\n",
       "    </tr>\n",
       "  </tbody>\n",
       "</table>\n",
       "</div>"
      ],
      "text/plain": [
       "         instance_id  artist_name track_name    popularity  acousticness  \\\n",
       "count   50000.000000        50000      50000  50000.000000  50000.000000   \n",
       "unique           NaN         6863      41699           NaN           NaN   \n",
       "top              NaN  empty_field       Home           NaN           NaN   \n",
       "freq             NaN         2489         16           NaN           NaN   \n",
       "mean    55888.396360          NaN        NaN     44.220420      0.306383   \n",
       "std     20725.256253          NaN        NaN     15.542008      0.341340   \n",
       "min     20002.000000          NaN        NaN      0.000000      0.000000   \n",
       "25%     37973.500000          NaN        NaN     34.000000      0.020000   \n",
       "50%     55913.500000          NaN        NaN     45.000000      0.144000   \n",
       "75%     73863.250000          NaN        NaN     56.000000      0.552000   \n",
       "max     91759.000000          NaN        NaN     99.000000      0.996000   \n",
       "\n",
       "        danceability   duration_ms        energy  instrumentalness    key  \\\n",
       "count   50000.000000  5.000000e+04  50000.000000      50000.000000  50000   \n",
       "unique           NaN           NaN           NaN               NaN     12   \n",
       "top              NaN           NaN           NaN               NaN      G   \n",
       "freq             NaN           NaN           NaN               NaN   5727   \n",
       "mean        0.558241  2.212526e+05      0.599755          0.181601    NaN   \n",
       "std         0.178632  1.286720e+05      0.264559          0.325409    NaN   \n",
       "min         0.059600 -1.000000e+00      0.000792          0.000000    NaN   \n",
       "25%         0.442000  1.748000e+05      0.433000          0.000000    NaN   \n",
       "50%         0.568000  2.192810e+05      0.643000          0.000158    NaN   \n",
       "75%         0.687000  2.686122e+05      0.815000          0.155000    NaN   \n",
       "max         0.986000  4.830606e+06      0.999000          0.996000    NaN   \n",
       "\n",
       "            liveness      loudness   mode   speechiness  tempo obtained_date  \\\n",
       "count   50000.000000  50000.000000  50000  50000.000000  50000         50000   \n",
       "unique           NaN           NaN      2           NaN  29394             5   \n",
       "top              NaN           NaN  Major           NaN      ?         4-Apr   \n",
       "freq             NaN           NaN  32099           NaN   4980         44748   \n",
       "mean        0.193896     -9.133761    NaN      0.093586    NaN           NaN   \n",
       "std         0.161637      6.162990    NaN      0.101373    NaN           NaN   \n",
       "min         0.009670    -47.046000    NaN      0.022300    NaN           NaN   \n",
       "25%         0.096900    -10.860000    NaN      0.036100    NaN           NaN   \n",
       "50%         0.126000     -7.276500    NaN      0.048900    NaN           NaN   \n",
       "75%         0.244000     -5.173000    NaN      0.098525    NaN           NaN   \n",
       "max         1.000000      3.744000    NaN      0.942000    NaN           NaN   \n",
       "\n",
       "             valence music_genre  \n",
       "count   50000.000000       50000  \n",
       "unique           NaN          10  \n",
       "top              NaN  Electronic  \n",
       "freq             NaN        5000  \n",
       "mean        0.456264         NaN  \n",
       "std         0.247119         NaN  \n",
       "min         0.000000         NaN  \n",
       "25%         0.257000         NaN  \n",
       "50%         0.448000         NaN  \n",
       "75%         0.648000         NaN  \n",
       "max         0.992000         NaN  "
      ]
     },
     "execution_count": 3,
     "metadata": {},
     "output_type": "execute_result"
    }
   ],
   "source": [
    "df.describe(include='all')"
   ]
  },
  {
   "cell_type": "code",
   "execution_count": 4,
   "id": "e86700d1",
   "metadata": {
    "scrolled": false
   },
   "outputs": [
    {
     "data": {
      "image/png": "[encoded data removed]",
      "text/plain": [
       "<Figure size 1080x864 with 11 Axes>"
      ]
     },
     "metadata": {
      "needs_background": "light"
     },
     "output_type": "display_data"
    }
   ],
   "source": [
    "# see the distribution of each quantitative variable\n",
    "plt.figure(figsize=(15, 12))\n",
    "for i, col in enumerate([column for column in df.columns if df[column].dtype != 'object']):\n",
    "    plt.subplot(3, 4, i + 1)\n",
    "    df[col].hist(color='steelblue')\n",
    "    plt.title(f'{col}')\n",
    "plt.show()"
   ]
  },
  {
   "cell_type": "code",
   "execution_count": 5,
   "id": "6d87b392",
   "metadata": {},
   "outputs": [
    {
     "data": {
      "image/png": "[encoded data removed]",
      "text/plain": [
       "<Figure size 720x432 with 2 Axes>"
      ]
     },
     "metadata": {
      "needs_background": "light"
     },
     "output_type": "display_data"
    }
   ],
   "source": [
    "# correlation heatmap\n",
    "corr = df.drop(columns=['instance_id', 'duration_ms']).corr()\n",
    "plt.figure(figsize=(10,6))\n",
    "sns.heatmap(corr, cmap='cividis', annot=True)\n",
    "plt.show()"
   ]
  },
  {
   "cell_type": "markdown",
   "id": "a02a45eb",
   "metadata": {},
   "source": [
    "## Feature Engineering"
   ]
  },
  {
   "cell_type": "code",
   "execution_count": 6,
   "id": "e55b9f37",
   "metadata": {},
   "outputs": [
    {
     "data": {
      "text/html": [
       "<div>\n",
       "<style scoped>\n",
       "    .dataframe tbody tr th:only-of-type {\n",
       "        vertical-align: middle;\n",
       "    }\n",
       "\n",
       "    .dataframe tbody tr th {\n",
       "        vertical-align: top;\n",
       "    }\n",
       "\n",
       "    .dataframe thead th {\n",
       "        text-align: right;\n",
       "    }\n",
       "</style>\n",
       "<table border=\"1\" class=\"dataframe\">\n",
       "  <thead>\n",
       "    <tr style=\"text-align: right;\">\n",
       "      <th></th>\n",
       "      <th>instance_id</th>\n",
       "      <th>artist_name</th>\n",
       "      <th>track_name</th>\n",
       "      <th>popularity</th>\n",
       "      <th>acousticness</th>\n",
       "      <th>danceability</th>\n",
       "      <th>duration_ms</th>\n",
       "      <th>energy</th>\n",
       "      <th>instrumentalness</th>\n",
       "      <th>key</th>\n",
       "      <th>liveness</th>\n",
       "      <th>loudness</th>\n",
       "      <th>mode</th>\n",
       "      <th>speechiness</th>\n",
       "      <th>tempo</th>\n",
       "      <th>obtained_date</th>\n",
       "      <th>valence</th>\n",
       "      <th>music_genre</th>\n",
       "    </tr>\n",
       "  </thead>\n",
       "  <tbody>\n",
       "    <tr>\n",
       "      <th>10000</th>\n",
       "      <td>NaN</td>\n",
       "      <td>NaN</td>\n",
       "      <td>NaN</td>\n",
       "      <td>NaN</td>\n",
       "      <td>NaN</td>\n",
       "      <td>NaN</td>\n",
       "      <td>NaN</td>\n",
       "      <td>NaN</td>\n",
       "      <td>NaN</td>\n",
       "      <td>NaN</td>\n",
       "      <td>NaN</td>\n",
       "      <td>NaN</td>\n",
       "      <td>NaN</td>\n",
       "      <td>NaN</td>\n",
       "      <td>NaN</td>\n",
       "      <td>NaN</td>\n",
       "      <td>NaN</td>\n",
       "      <td>NaN</td>\n",
       "    </tr>\n",
       "    <tr>\n",
       "      <th>10001</th>\n",
       "      <td>NaN</td>\n",
       "      <td>NaN</td>\n",
       "      <td>NaN</td>\n",
       "      <td>NaN</td>\n",
       "      <td>NaN</td>\n",
       "      <td>NaN</td>\n",
       "      <td>NaN</td>\n",
       "      <td>NaN</td>\n",
       "      <td>NaN</td>\n",
       "      <td>NaN</td>\n",
       "      <td>NaN</td>\n",
       "      <td>NaN</td>\n",
       "      <td>NaN</td>\n",
       "      <td>NaN</td>\n",
       "      <td>NaN</td>\n",
       "      <td>NaN</td>\n",
       "      <td>NaN</td>\n",
       "      <td>NaN</td>\n",
       "    </tr>\n",
       "    <tr>\n",
       "      <th>10002</th>\n",
       "      <td>NaN</td>\n",
       "      <td>NaN</td>\n",
       "      <td>NaN</td>\n",
       "      <td>NaN</td>\n",
       "      <td>NaN</td>\n",
       "      <td>NaN</td>\n",
       "      <td>NaN</td>\n",
       "      <td>NaN</td>\n",
       "      <td>NaN</td>\n",
       "      <td>NaN</td>\n",
       "      <td>NaN</td>\n",
       "      <td>NaN</td>\n",
       "      <td>NaN</td>\n",
       "      <td>NaN</td>\n",
       "      <td>NaN</td>\n",
       "      <td>NaN</td>\n",
       "      <td>NaN</td>\n",
       "      <td>NaN</td>\n",
       "    </tr>\n",
       "    <tr>\n",
       "      <th>10003</th>\n",
       "      <td>NaN</td>\n",
       "      <td>NaN</td>\n",
       "      <td>NaN</td>\n",
       "      <td>NaN</td>\n",
       "      <td>NaN</td>\n",
       "      <td>NaN</td>\n",
       "      <td>NaN</td>\n",
       "      <td>NaN</td>\n",
       "      <td>NaN</td>\n",
       "      <td>NaN</td>\n",
       "      <td>NaN</td>\n",
       "      <td>NaN</td>\n",
       "      <td>NaN</td>\n",
       "      <td>NaN</td>\n",
       "      <td>NaN</td>\n",
       "      <td>NaN</td>\n",
       "      <td>NaN</td>\n",
       "      <td>NaN</td>\n",
       "    </tr>\n",
       "    <tr>\n",
       "      <th>10004</th>\n",
       "      <td>NaN</td>\n",
       "      <td>NaN</td>\n",
       "      <td>NaN</td>\n",
       "      <td>NaN</td>\n",
       "      <td>NaN</td>\n",
       "      <td>NaN</td>\n",
       "      <td>NaN</td>\n",
       "      <td>NaN</td>\n",
       "      <td>NaN</td>\n",
       "      <td>NaN</td>\n",
       "      <td>NaN</td>\n",
       "      <td>NaN</td>\n",
       "      <td>NaN</td>\n",
       "      <td>NaN</td>\n",
       "      <td>NaN</td>\n",
       "      <td>NaN</td>\n",
       "      <td>NaN</td>\n",
       "      <td>NaN</td>\n",
       "    </tr>\n",
       "  </tbody>\n",
       "</table>\n",
       "</div>"
      ],
      "text/plain": [
       "       instance_id artist_name track_name  popularity  acousticness  \\\n",
       "10000          NaN         NaN        NaN         NaN           NaN   \n",
       "10001          NaN         NaN        NaN         NaN           NaN   \n",
       "10002          NaN         NaN        NaN         NaN           NaN   \n",
       "10003          NaN         NaN        NaN         NaN           NaN   \n",
       "10004          NaN         NaN        NaN         NaN           NaN   \n",
       "\n",
       "       danceability  duration_ms  energy  instrumentalness  key  liveness  \\\n",
       "10000           NaN          NaN     NaN               NaN  NaN       NaN   \n",
       "10001           NaN          NaN     NaN               NaN  NaN       NaN   \n",
       "10002           NaN          NaN     NaN               NaN  NaN       NaN   \n",
       "10003           NaN          NaN     NaN               NaN  NaN       NaN   \n",
       "10004           NaN          NaN     NaN               NaN  NaN       NaN   \n",
       "\n",
       "       loudness mode  speechiness tempo obtained_date  valence music_genre  \n",
       "10000       NaN  NaN          NaN   NaN           NaN      NaN         NaN  \n",
       "10001       NaN  NaN          NaN   NaN           NaN      NaN         NaN  \n",
       "10002       NaN  NaN          NaN   NaN           NaN      NaN         NaN  \n",
       "10003       NaN  NaN          NaN   NaN           NaN      NaN         NaN  \n",
       "10004       NaN  NaN          NaN   NaN           NaN      NaN         NaN  "
      ]
     },
     "metadata": {},
     "output_type": "display_data"
    }
   ],
   "source": [
    "# 5 rows of all na, so it's safe to drop all\n",
    "display(df[df.isna().any(axis=1)])\n",
    "df = df.dropna().reset_index(drop=True)"
   ]
  },
  {
   "cell_type": "code",
   "execution_count": 7,
   "id": "35685730",
   "metadata": {},
   "outputs": [],
   "source": [
    "df['instance_id'] = df['instance_id'].astype(int)\n",
    "df['artist_name'] = df['artist_name'].replace('empty_field', np.nan)\n",
    "df['popularity'] = df['popularity'] / 10 ** 2  # scale to fit between 0 and 1, similar to the other variables"
   ]
  },
  {
   "cell_type": "code",
   "execution_count": 8,
   "id": "8afe1b2b",
   "metadata": {},
   "outputs": [
    {
     "name": "stdout",
     "output_type": "stream",
     "text": [
      "Rows after removing duration_ms NaN: 45061\n"
     ]
    }
   ],
   "source": [
    "# number of songs with recorded duration is large enough to drop rows without duration, denoted as '-1'\n",
    "print('Rows after removing duration_ms NaN:', df[df['duration_ms'] > 0].count()[0])\n",
    "df = df[df['duration_ms'] > 0]"
   ]
  },
  {
   "cell_type": "code",
   "execution_count": 9,
   "id": "98288004",
   "metadata": {},
   "outputs": [
    {
     "name": "stdout",
     "output_type": "stream",
     "text": [
      "Rows after removing tempo NaN: 40560\n"
     ]
    }
   ],
   "source": [
    "# number of songs with recorded tempo is large enough to drop rows without tempo, denoted as '?'\n",
    "print('Rows after removing tempo NaN:', df[df['tempo'] != '?'].count()[0])\n",
    "df = df[df['tempo'] != '?']\n",
    "df['tempo'] = df['tempo'].astype(float).apply(lambda x: round(x, 3))"
   ]
  },
  {
   "cell_type": "code",
   "execution_count": 10,
   "id": "d85e25c3",
   "metadata": {},
   "outputs": [
    {
     "data": {
      "image/png": "[encoded data removed]",
      "text/plain": [
       "<Figure size 432x288 with 2 Axes>"
      ]
     },
     "metadata": {
      "needs_background": "light"
     },
     "output_type": "display_data"
    }
   ],
   "source": [
    "plt.subplot(2, 2, 1)\n",
    "df['key'].value_counts().plot.bar()\n",
    "plt.subplot(2, 2, 2)\n",
    "df['mode'].value_counts().plot.bar()\n",
    "plt.tight_layout()\n",
    "plt.show()"
   ]
  },
  {
   "cell_type": "code",
   "execution_count": 11,
   "id": "6e359d92",
   "metadata": {},
   "outputs": [
    {
     "data": {
      "text/html": [
       "<div>\n",
       "<style scoped>\n",
       "    .dataframe tbody tr th:only-of-type {\n",
       "        vertical-align: middle;\n",
       "    }\n",
       "\n",
       "    .dataframe tbody tr th {\n",
       "        vertical-align: top;\n",
       "    }\n",
       "\n",
       "    .dataframe thead th {\n",
       "        text-align: right;\n",
       "    }\n",
       "</style>\n",
       "<table border=\"1\" class=\"dataframe\">\n",
       "  <thead>\n",
       "    <tr style=\"text-align: right;\">\n",
       "      <th></th>\n",
       "      <th>instance_id</th>\n",
       "      <th>artist_name</th>\n",
       "      <th>track_name</th>\n",
       "      <th>popularity</th>\n",
       "      <th>acousticness</th>\n",
       "      <th>danceability</th>\n",
       "      <th>duration_ms</th>\n",
       "      <th>energy</th>\n",
       "      <th>instrumentalness</th>\n",
       "      <th>key</th>\n",
       "      <th>liveness</th>\n",
       "      <th>loudness</th>\n",
       "      <th>mode</th>\n",
       "      <th>speechiness</th>\n",
       "      <th>tempo</th>\n",
       "      <th>obtained_date</th>\n",
       "      <th>valence</th>\n",
       "      <th>music_genre</th>\n",
       "    </tr>\n",
       "  </thead>\n",
       "  <tbody>\n",
       "    <tr>\n",
       "      <th>1</th>\n",
       "      <td>46652</td>\n",
       "      <td>Thievery Corporation</td>\n",
       "      <td>The Shining Path</td>\n",
       "      <td>0.31</td>\n",
       "      <td>0.01270</td>\n",
       "      <td>0.622</td>\n",
       "      <td>218293.0</td>\n",
       "      <td>0.890</td>\n",
       "      <td>0.950000</td>\n",
       "      <td>D</td>\n",
       "      <td>0.124</td>\n",
       "      <td>-7.043</td>\n",
       "      <td>Minor</td>\n",
       "      <td>0.0300</td>\n",
       "      <td>115.002</td>\n",
       "      <td>4-Apr</td>\n",
       "      <td>0.531</td>\n",
       "      <td>Electronic</td>\n",
       "    </tr>\n",
       "    <tr>\n",
       "      <th>2</th>\n",
       "      <td>30097</td>\n",
       "      <td>Dillon Francis</td>\n",
       "      <td>Hurricane</td>\n",
       "      <td>0.28</td>\n",
       "      <td>0.00306</td>\n",
       "      <td>0.620</td>\n",
       "      <td>215613.0</td>\n",
       "      <td>0.755</td>\n",
       "      <td>0.011800</td>\n",
       "      <td>G#</td>\n",
       "      <td>0.534</td>\n",
       "      <td>-4.617</td>\n",
       "      <td>Major</td>\n",
       "      <td>0.0345</td>\n",
       "      <td>127.994</td>\n",
       "      <td>4-Apr</td>\n",
       "      <td>0.333</td>\n",
       "      <td>Electronic</td>\n",
       "    </tr>\n",
       "    <tr>\n",
       "      <th>3</th>\n",
       "      <td>62177</td>\n",
       "      <td>Dubloadz</td>\n",
       "      <td>Nitro</td>\n",
       "      <td>0.34</td>\n",
       "      <td>0.02540</td>\n",
       "      <td>0.774</td>\n",
       "      <td>166875.0</td>\n",
       "      <td>0.700</td>\n",
       "      <td>0.002530</td>\n",
       "      <td>C#</td>\n",
       "      <td>0.157</td>\n",
       "      <td>-4.498</td>\n",
       "      <td>Major</td>\n",
       "      <td>0.2390</td>\n",
       "      <td>128.014</td>\n",
       "      <td>4-Apr</td>\n",
       "      <td>0.270</td>\n",
       "      <td>Electronic</td>\n",
       "    </tr>\n",
       "    <tr>\n",
       "      <th>4</th>\n",
       "      <td>24907</td>\n",
       "      <td>What So Not</td>\n",
       "      <td>Divide &amp; Conquer</td>\n",
       "      <td>0.32</td>\n",
       "      <td>0.00465</td>\n",
       "      <td>0.638</td>\n",
       "      <td>222369.0</td>\n",
       "      <td>0.587</td>\n",
       "      <td>0.909000</td>\n",
       "      <td>F#</td>\n",
       "      <td>0.157</td>\n",
       "      <td>-6.266</td>\n",
       "      <td>Major</td>\n",
       "      <td>0.0413</td>\n",
       "      <td>145.036</td>\n",
       "      <td>4-Apr</td>\n",
       "      <td>0.323</td>\n",
       "      <td>Electronic</td>\n",
       "    </tr>\n",
       "    <tr>\n",
       "      <th>6</th>\n",
       "      <td>43760</td>\n",
       "      <td>Jordan Comolli</td>\n",
       "      <td>Clash</td>\n",
       "      <td>0.46</td>\n",
       "      <td>0.02890</td>\n",
       "      <td>0.572</td>\n",
       "      <td>214408.0</td>\n",
       "      <td>0.803</td>\n",
       "      <td>0.000008</td>\n",
       "      <td>B</td>\n",
       "      <td>0.106</td>\n",
       "      <td>-4.294</td>\n",
       "      <td>Major</td>\n",
       "      <td>0.3510</td>\n",
       "      <td>149.995</td>\n",
       "      <td>4-Apr</td>\n",
       "      <td>0.230</td>\n",
       "      <td>Electronic</td>\n",
       "    </tr>\n",
       "  </tbody>\n",
       "</table>\n",
       "</div>"
      ],
      "text/plain": [
       "   instance_id           artist_name        track_name  popularity  \\\n",
       "1        46652  Thievery Corporation  The Shining Path        0.31   \n",
       "2        30097        Dillon Francis         Hurricane        0.28   \n",
       "3        62177              Dubloadz             Nitro        0.34   \n",
       "4        24907           What So Not  Divide & Conquer        0.32   \n",
       "6        43760        Jordan Comolli             Clash        0.46   \n",
       "\n",
       "   acousticness  danceability  duration_ms  energy  instrumentalness key  \\\n",
       "1       0.01270         0.622     218293.0   0.890          0.950000   D   \n",
       "2       0.00306         0.620     215613.0   0.755          0.011800  G#   \n",
       "3       0.02540         0.774     166875.0   0.700          0.002530  C#   \n",
       "4       0.00465         0.638     222369.0   0.587          0.909000  F#   \n",
       "6       0.02890         0.572     214408.0   0.803          0.000008   B   \n",
       "\n",
       "   liveness  loudness   mode  speechiness    tempo obtained_date  valence  \\\n",
       "1     0.124    -7.043  Minor       0.0300  115.002         4-Apr    0.531   \n",
       "2     0.534    -4.617  Major       0.0345  127.994         4-Apr    0.333   \n",
       "3     0.157    -4.498  Major       0.2390  128.014         4-Apr    0.270   \n",
       "4     0.157    -6.266  Major       0.0413  145.036         4-Apr    0.323   \n",
       "6     0.106    -4.294  Major       0.3510  149.995         4-Apr    0.230   \n",
       "\n",
       "  music_genre  \n",
       "1  Electronic  \n",
       "2  Electronic  \n",
       "3  Electronic  \n",
       "4  Electronic  \n",
       "6  Electronic  "
      ]
     },
     "execution_count": 11,
     "metadata": {},
     "output_type": "execute_result"
    }
   ],
   "source": [
    "df.head()"
   ]
  },
  {
   "cell_type": "markdown",
   "id": "6fe365dc",
   "metadata": {},
   "source": [
    "## ML Modelling"
   ]
  },
  {
   "cell_type": "markdown",
   "id": "1700eaab",
   "metadata": {},
   "source": [
    "2 different model scenarios were tested:\n",
    "* Predicting all 10 individual genres\n",
    "* Predicting electronic vs. non-electronic genres"
   ]
  },
  {
   "cell_type": "markdown",
   "id": "da2b5e7f",
   "metadata": {},
   "source": [
    "## Predicting all Genres"
   ]
  },
  {
   "cell_type": "code",
   "execution_count": 12,
   "id": "7a71e2c6",
   "metadata": {},
   "outputs": [
    {
     "data": {
      "text/plain": [
       "Rock           4099\n",
       "Hip-Hop        4077\n",
       "Anime          4064\n",
       "Jazz           4064\n",
       "Alternative    4051\n",
       "Country        4049\n",
       "Blues          4046\n",
       "Rap            4042\n",
       "Classical      4036\n",
       "Electronic     4032\n",
       "Name: music_genre, dtype: int64"
      ]
     },
     "metadata": {},
     "output_type": "display_data"
    },
    {
     "name": "stdout",
     "output_type": "stream",
     "text": [
      "(40560, 25)\n"
     ]
    }
   ],
   "source": [
    "all_genre_df = df.copy()\n",
    "display(all_genre_df['music_genre'].value_counts())\n",
    "\n",
    "# create dummy variables for key and mode, and drop unneeded columns\n",
    "X = pd.get_dummies(all_genre_df, columns=['key', 'mode']).drop(columns=['instance_id', 'artist_name', 'track_name', 'obtained_date', 'music_genre'])\n",
    "y = all_genre_df['music_genre']\n",
    "print(X.shape)\n",
    "\n",
    "X_train, X_test, y_train, y_test = train_test_split(X, y, random_state=42)"
   ]
  },
  {
   "cell_type": "markdown",
   "id": "edd1f8ad",
   "metadata": {},
   "source": [
    "### Multinomial Logistic Regression - All Genres"
   ]
  },
  {
   "cell_type": "code",
   "execution_count": 13,
   "id": "9005feeb",
   "metadata": {},
   "outputs": [
    {
     "name": "stdout",
     "output_type": "stream",
     "text": [
      "Score: 0.14102564102564102\n",
      "Cross-Val Mean Accuracy: 0.1277449046679816\n"
     ]
    }
   ],
   "source": [
    "LRC = LogisticRegression(multi_class='multinomial', solver='lbfgs', max_iter=1000, random_state=42)\n",
    "LRC.fit(X_train, y_train)\n",
    "\n",
    "# cross-validation using stratified k-folds does not perform significantly different than simply scoring the test data\n",
    "all_genre_LRC_score = LRC.score(X_test, y_test)\n",
    "print(f'Score: {all_genre_LRC_score}')\n",
    "\n",
    "cv = RepeatedStratifiedKFold(n_splits=10, n_repeats=3, random_state=42)\n",
    "n_scores = cross_val_score(LRC, X_test, y_test, scoring='accuracy', cv=cv, n_jobs=-1)\n",
    "print(f'Cross-Val Mean Accuracy: {np.mean(n_scores)}')"
   ]
  },
  {
   "cell_type": "markdown",
   "id": "de769c79",
   "metadata": {},
   "source": [
    "### Random Forest - All Genres"
   ]
  },
  {
   "cell_type": "code",
   "execution_count": 14,
   "id": "5789fec4",
   "metadata": {},
   "outputs": [
    {
     "name": "stdout",
     "output_type": "stream",
     "text": [
      "Score: 0.5567061143984221\n",
      "Cross-Val Mean Accuracy: 0.5654832347140039\n"
     ]
    }
   ],
   "source": [
    "forest = RandomForestClassifier(n_estimators=300, random_state=42)\n",
    "forest.fit(X_train, y_train)\n",
    "\n",
    "# same as with logistic regression, cross-validation does not perform significantly different than simply scoring the test data\n",
    "all_genre_forest_score = forest.score(X_test, y_test)\n",
    "print(f'Score: {all_genre_forest_score}')\n",
    "\n",
    "cv = RepeatedStratifiedKFold(n_splits=10, n_repeats=3, random_state=42)\n",
    "n_scores = cross_val_score(forest, X_test, y_test, scoring='accuracy', cv=cv, n_jobs=-1)\n",
    "print(f'Cross-Val Mean Accuracy: {np.mean(n_scores)}')"
   ]
  },
  {
   "cell_type": "code",
   "execution_count": 15,
   "id": "ec6f011c",
   "metadata": {},
   "outputs": [
    {
     "data": {
      "image/png": "[encoded data removed]",
      "text/plain": [
       "<Figure size 432x288 with 2 Axes>"
      ]
     },
     "metadata": {
      "needs_background": "light"
     },
     "output_type": "display_data"
    }
   ],
   "source": [
    "plot_confusion_matrix(\n",
    "    forest,\n",
    "    X_test,\n",
    "    y_test,\n",
    "    display_labels=y.unique(),\n",
    "    cmap='cividis'\n",
    ")\n",
    "plt.title('RF Confusion Matrix')\n",
    "plt.grid(False)\n",
    "plt.xticks(rotation=45)\n",
    "plt.show()"
   ]
  },
  {
   "cell_type": "markdown",
   "id": "deb0b5f7",
   "metadata": {},
   "source": [
    "# Results - All Genres"
   ]
  },
  {
   "cell_type": "code",
   "execution_count": 16,
   "id": "47fdae7a",
   "metadata": {},
   "outputs": [
    {
     "name": "stdout",
     "output_type": "stream",
     "text": [
      "Logistic Regression Accuracy: 14.1026\n",
      "Random Forest Accuracy: 55.6706\n"
     ]
    }
   ],
   "source": [
    "# Logistic Regression perform inadequately compared to Random Forest when predicting all genres\n",
    "print(f'Logistic Regression Accuracy: {all_genre_LRC_score * 100:.4f}')\n",
    "print(f'Random Forest Accuracy: {all_genre_forest_score * 100:.4f}')"
   ]
  },
  {
   "cell_type": "markdown",
   "id": "3abff523",
   "metadata": {},
   "source": [
    "## Predicting Electronic Only"
   ]
  },
  {
   "cell_type": "markdown",
   "id": "023f879c",
   "metadata": {},
   "source": [
    "Since predicting all 10 individual genres didn't result in desired model accuracy, check if predicting a single genre improves the model"
   ]
  },
  {
   "cell_type": "code",
   "execution_count": 17,
   "id": "688f12e6",
   "metadata": {},
   "outputs": [
    {
     "data": {
      "text/plain": [
       "Not Electronic    36528\n",
       "Electronic         4032\n",
       "Name: music_genre, dtype: int64"
      ]
     },
     "metadata": {},
     "output_type": "display_data"
    },
    {
     "name": "stdout",
     "output_type": "stream",
     "text": [
      "(40560, 25)\n"
     ]
    }
   ],
   "source": [
    "elec_df = df.copy()\n",
    "elec_df['music_genre'] = elec_df['music_genre'].apply(lambda x: 'Not Electronic' if x != 'Electronic' else x)\n",
    "display(elec_df['music_genre'].value_counts())\n",
    "\n",
    "X = pd.get_dummies(elec_df, columns=['key', 'mode']).drop(columns=['instance_id', 'artist_name', 'track_name', 'obtained_date', 'music_genre'])\n",
    "y = elec_df['music_genre']\n",
    "print(X.shape)\n",
    "\n",
    "X_train, X_test, y_train, y_test = train_test_split(X, y, random_state=42)"
   ]
  },
  {
   "cell_type": "code",
   "execution_count": 18,
   "id": "a3f03035",
   "metadata": {},
   "outputs": [
    {
     "name": "stdout",
     "output_type": "stream",
     "text": [
      "Original dataset shape Counter({'Not Electronic': 27427, 'Electronic': 2993})\n",
      "Resample dataset shape Counter({'Not Electronic': 27427, 'Electronic': 27427})\n"
     ]
    }
   ],
   "source": [
    "# Synthetic minority over-sampling technique used to balance the data\n",
    "x_smote, y_smote = SMOTE().fit_resample(X_train, y_train)\n",
    "\n",
    "print('Original dataset shape', Counter(y_train))\n",
    "print('Resample dataset shape', Counter(y_smote))"
   ]
  },
  {
   "cell_type": "markdown",
   "id": "5302e173",
   "metadata": {},
   "source": [
    "### Logistic Regression - Electronic Only"
   ]
  },
  {
   "cell_type": "code",
   "execution_count": 19,
   "id": "0f3729d3",
   "metadata": {},
   "outputs": [
    {
     "name": "stdout",
     "output_type": "stream",
     "text": [
      "Score: 0.897534516765286\n",
      "Cross-Val Mean Accuracy: 0.8976660092044709\n"
     ]
    }
   ],
   "source": [
    "LRC = LogisticRegression(solver='lbfgs', max_iter=1000, random_state=42)\n",
    "LRC.fit(X_train, y_train)  # highest accuracy/correct predictions are achieved with an imbalanced class\n",
    "\n",
    "# cross-validation using stratified k-folds performs significantly better than simply scoring the test data\n",
    "electronic_LRC_score = LRC.score(X_test, y_test)\n",
    "print('Score:', electronic_LRC_score)\n",
    "\n",
    "cv = RepeatedStratifiedKFold(n_splits=10, n_repeats=3, random_state=42)\n",
    "n_scores = cross_val_score(LRC, X_test, y_test, scoring='accuracy', cv=cv, n_jobs=-1)\n",
    "if np.mean(n_scores) > electronic_LRC_score:\n",
    "    electronic_LRC_score = np.mean(n_scores)\n",
    "print(f'Cross-Val Mean Accuracy: {np.mean(n_scores)}')"
   ]
  },
  {
   "cell_type": "code",
   "execution_count": 20,
   "id": "4df47cb6",
   "metadata": {},
   "outputs": [
    {
     "data": {
      "image/png": "[encoded data removed]",
      "text/plain": [
       "<Figure size 432x288 with 2 Axes>"
      ]
     },
     "metadata": {
      "needs_background": "light"
     },
     "output_type": "display_data"
    }
   ],
   "source": [
    "# Even with dataset balancing through over-sampling and under-sampling, the logistic regression model is bad at predicting \n",
    "# both electric and non-electric music at the same time, but can predict not-electronic music well\n",
    "plot_confusion_matrix(\n",
    "    LRC,\n",
    "    X_test,\n",
    "    y_test,\n",
    "    display_labels=y.unique(),\n",
    "    cmap='cividis'\n",
    ")\n",
    "plt.title('LRC Confusion Matrix')\n",
    "plt.grid(False)\n",
    "plt.xticks(rotation=45)\n",
    "plt.show()"
   ]
  },
  {
   "cell_type": "markdown",
   "id": "05f08d26",
   "metadata": {},
   "source": [
    "### Random Forest - Electronic Only"
   ]
  },
  {
   "cell_type": "code",
   "execution_count": 21,
   "id": "34067cf3",
   "metadata": {},
   "outputs": [
    {
     "name": "stdout",
     "output_type": "stream",
     "text": [
      "Score: 0.9251479289940828\n",
      "Cross-Val Mean Accuracy: 0.9276462853385931\n"
     ]
    }
   ],
   "source": [
    "forest = RandomForestClassifier(n_estimators=300, random_state=42)\n",
    "forest.fit(x_smote, y_smote)\n",
    "\n",
    "# different from logistic regression, cross-validation does not perform significantly different than simply scoring the test data\n",
    "electronic_forest_score = forest.score(X_test, y_test)\n",
    "print(f'Score: {electronic_forest_score}')\n",
    "\n",
    "cv = RepeatedStratifiedKFold(n_splits=10, n_repeats=3, random_state=42)\n",
    "n_scores = cross_val_score(forest, X_test, y_test, scoring='accuracy', cv=cv, n_jobs=-1)\n",
    "print(f'Cross-Val Mean Accuracy: {np.mean(n_scores)}')"
   ]
  },
  {
   "cell_type": "code",
   "execution_count": 22,
   "id": "4af63ecd",
   "metadata": {},
   "outputs": [
    {
     "data": {
      "image/png": "[encoded data removed]",
      "text/plain": [
       "<Figure size 432x288 with 2 Axes>"
      ]
     },
     "metadata": {
      "needs_background": "light"
     },
     "output_type": "display_data"
    }
   ],
   "source": [
    "# using SMOTE allows for marginally better classification of electronic music\n",
    "plot_confusion_matrix(\n",
    "    forest,\n",
    "    X_test,\n",
    "    y_test,\n",
    "    display_labels=y.unique(),\n",
    "    cmap='cividis'\n",
    ")\n",
    "plt.title('RF Confusion Matrix')\n",
    "plt.grid(False)\n",
    "plt.xticks(rotation=45)\n",
    "plt.show()"
   ]
  },
  {
   "cell_type": "markdown",
   "id": "0672b4cb",
   "metadata": {},
   "source": [
    "# Results - Electronic Only"
   ]
  },
  {
   "cell_type": "code",
   "execution_count": 23,
   "id": "2ea0111c",
   "metadata": {},
   "outputs": [
    {
     "name": "stdout",
     "output_type": "stream",
     "text": [
      "Logistic Regression Accuracy: 89.7666\n",
      "Random Forest Accuracy: 92.5148\n"
     ]
    }
   ],
   "source": [
    "print(f'Logistic Regression Accuracy: {electronic_LRC_score * 100:.4f}')\n",
    "print(f'Random Forest Accuracy: {electronic_forest_score * 100:.4f}')"
   ]
  },
  {
   "cell_type": "markdown",
   "id": "850349ad",
   "metadata": {},
   "source": [
    "# Explaination and Summary"
   ]
  },
  {
   "cell_type": "markdown",
   "id": "02551cf6",
   "metadata": {},
   "source": [
    "When trying to predict both individual genres and electronic vs. non-electronic genres, the RandomForestClassifier performed significantly better than Multinomial-LogisticRegression. The respective accuracies were (\\~55%, \\~93%) and (\\~14%, \\~90%) for RFC and LR. \n",
    "\n",
    "I believe that the large number of genres in the original dataset have an adverse effect on the prediction power of either model. The RFC was good at classifying strictly non-electronic music, but drilling down to any specific genre(s) reduced the accuracy. For example - predicting only 'Anime' and 'Jazz' yielded high model accuracy, but introducing additional genres (testing 'Anime', 'Jazz', 'Rock', ...) lowered the accuracy. The low number of variables could have also contributed to the low model accuracies, as the results suggest that loudness, acousticness, etc, are not exclusive to any one genre. \n",
    "\n",
    "Proposed solutions to this are more expensive models like Neural Networks or pricier hyper-parameters, or more comprehensive data collection. NLP could also be utilized, as it would make sense that certain genres contain similar song names by similar artists.\n",
    "\n",
    "Depending on the business circumstance, I am confident that the models provided are sufficient to predict music genres based off the Spotify stats"
   ]
  },
  {
   "cell_type": "code",
   "execution_count": null,
   "id": "c9f8955f",
   "metadata": {},
   "outputs": [],
   "source": []
  }
 ],
 "metadata": {
  "kernelspec": {
   "display_name": "Python 3 (ipykernel)",
   "language": "python",
   "name": "python3"
  },
  "language_info": {
   "codemirror_mode": {
    "name": "ipython",
    "version": 3
   },
   "file_extension": ".py",
   "mimetype": "text/x-python",
   "name": "python",
   "nbconvert_exporter": "python",
   "pygments_lexer": "ipython3",
   "version": "3.9.6"
  }
 },
 "nbformat": 4,
 "nbformat_minor": 5
}
